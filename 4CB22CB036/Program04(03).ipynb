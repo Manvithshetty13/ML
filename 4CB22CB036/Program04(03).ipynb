{
 "cells": [
  {
   "cell_type": "markdown",
   "id": "d6048a68-c732-4412-a016-b1fb93adb63a",
   "metadata": {},
   "source": [
    "## PROGRAM 04"
   ]
  },
  {
   "cell_type": "code",
   "execution_count": 5,
   "id": "f45df202-9589-4699-ad32-40de8d9546b5",
   "metadata": {},
   "outputs": [],
   "source": [
    "import pandas as pd"
   ]
  },
  {
   "cell_type": "code",
   "execution_count": 7,
   "id": "77578dc0-dac7-436c-9bd0-fc3c19a95fcc",
   "metadata": {},
   "outputs": [
    {
     "name": "stdout",
     "output_type": "stream",
     "text": [
      "\n",
      "Dataset Preview:\n",
      "   Temperature air temp humidity    wind water forecast label\n",
      "0       sunny     warm   normal  strong  warm     same   yes\n",
      "1       sunny     warm     high  strong  warm     same   yes\n",
      "2       rainy     cold     high  strong  warm   change    no\n",
      "3       sunny     warm     high  strong  cool   change   yes\n",
      "\n",
      "Column Names: ['Temperature', 'air temp', 'humidity', 'wind', 'water', 'forecast', 'label']\n",
      "\n",
      "Labels Found in Dataset: {'yes', 'no'}\n",
      "\n",
      "Final Hypothesis: ['sunny', 'warm', '?', 'strong', '?', '?']\n"
     ]
    }
   ],
   "source": [
    "def find_s_algorithm_from_csv(file_path):\n",
    "    # Load CSV file and clean it\n",
    "    df = pd.read_csv(file_path, skipinitialspace=True).dropna(axis=1, how=\"all\")  # Remove empty columns\n",
    "\n",
    "    # Strip spaces from column names\n",
    "    df.columns = df.columns.str.strip()\n",
    "\n",
    "    # Rename target label column if necessary\n",
    "    if \"enjoy sport\" in df.columns:\n",
    "        df.rename(columns={\"enjoy sport\": \"label\"}, inplace=True)\n",
    "\n",
    "    # Debugging Output\n",
    "    print(\"\\nDataset Preview:\\n\", df.head())\n",
    "    print(\"\\nColumn Names:\", df.columns.tolist())\n",
    "    print(\"\\nLabels Found in Dataset:\", set(df[\"label\"]))\n",
    "\n",
    "    # Extract attributes and labels\n",
    "    attributes = df.iloc[:, :-1].values  # Features\n",
    "    labels = df.iloc[:, -1].values       # Target labels\n",
    "\n",
    "    hypothesis = None\n",
    "\n",
    "    for i in range(len(labels)):\n",
    "        if str(labels[i]).strip().lower() == \"yes\":  # Convert label to lowercase for consistency\n",
    "            if hypothesis is None:\n",
    "                hypothesis = list(attributes[i])  # First positive example initializes hypothesis\n",
    "            else:\n",
    "                for j in range(len(hypothesis)):\n",
    "                    if hypothesis[j] != attributes[i][j]:\n",
    "                        hypothesis[j] = \"?\"  # Generalize differing attributes\n",
    "\n",
    "    if hypothesis is None:\n",
    "        print(\"\\n No positive examples ('Yes') found in dataset! Check CSV formatting.\")\n",
    "    return hypothesis\n",
    "\n",
    "# Run Find-S Algorithm\n",
    "file_path = \"C:/Users/ML Lab-B1/Desktop/training.csv\"  # Ensure the correct file path\n",
    "hypothesis = find_s_algorithm_from_csv(file_path)\n",
    "\n",
    "print(\"\\nFinal Hypothesis:\", hypothesis)"
   ]
  },
  {
   "cell_type": "code",
   "execution_count": null,
   "id": "73ca3b63-92f1-4c27-b21a-44302df33903",
   "metadata": {},
   "outputs": [],
   "source": []
  }
 ],
 "metadata": {
  "kernelspec": {
   "display_name": "Python [conda env:base] *",
   "language": "python",
   "name": "conda-base-py"
  },
  "language_info": {
   "codemirror_mode": {
    "name": "ipython",
    "version": 3
   },
   "file_extension": ".py",
   "mimetype": "text/x-python",
   "name": "python",
   "nbconvert_exporter": "python",
   "pygments_lexer": "ipython3",
   "version": "3.12.7"
  }
 },
 "nbformat": 4,
 "nbformat_minor": 5
}
